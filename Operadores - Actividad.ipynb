{
 "cells": [
  {
   "cell_type": "markdown",
   "metadata": {},
   "source": [
    "## Operadores - Actividad"
   ]
  },
  {
   "cell_type": "markdown",
   "metadata": {},
   "source": [
    "1) Pedir al usuario dos números y mostrar por pantalla la suma de ellos."
   ]
  },
  {
   "cell_type": "code",
   "execution_count": 1,
   "metadata": {},
   "outputs": [
    {
     "name": "stdout",
     "output_type": "stream",
     "text": [
      "4\n"
     ]
    }
   ],
   "source": [
    "num1 =int(input(\"ingrese el primer número\"))\n",
    "num2 =int(input(\"ingrese el segundo número\"))\n",
    "print(num1+num2)"
   ]
  },
  {
   "cell_type": "markdown",
   "metadata": {},
   "source": [
    "2) Calcular el perímetro y área de un rectángulo dada su base y su altura (el usuario debe introducir por teclado los dos valores)."
   ]
  },
  {
   "cell_type": "code",
   "execution_count": 2,
   "metadata": {},
   "outputs": [
    {
     "name": "stdout",
     "output_type": "stream",
     "text": [
      "El área del rectangulo es: 100.0\n",
      "El perímetro del retangulo es: 40.0\n"
     ]
    }
   ],
   "source": [
    "base= float(input(\"ingrese la base del rectangulo\"))\n",
    "altura =float(input(\"ingrese la altura del restangulo\"))\n",
    "print(f\"El área del rectangulo es: {base*altura}\")\n",
    "print(f\"El perímetro del retangulo es: {2*(base+altura)}\")"
   ]
  },
  {
   "cell_type": "markdown",
   "metadata": {},
   "source": [
    "3) Calcular el resultado de elevar un número entero a otro número entero (por ejemplo, 5 elevado a 3 = 5^3 = 5*5*5)."
   ]
  },
  {
   "cell_type": "code",
   "execution_count": null,
   "metadata": {},
   "outputs": [
    {
     "name": "stdout",
     "output_type": "stream",
     "text": [
      "125\n"
     ]
    }
   ],
   "source": [
    "x=5**3\n",
    "print(x)"
   ]
  },
  {
   "cell_type": "markdown",
   "metadata": {},
   "source": [
    "4) Escribe un programa que convierta grados Celsius a grados Fahrenheit utilizando la fórmula: **F = (C * 9/5) + 32**"
   ]
  },
  {
   "cell_type": "code",
   "execution_count": null,
   "metadata": {},
   "outputs": [],
   "source": [
    "celsius=12\n",
    "Fahrenheit=(celsius* 9/ 5)+32"
   ]
  },
  {
   "cell_type": "markdown",
   "metadata": {},
   "source": [
    "5) Pedir al usuario su edad y mostrar por pantalla si es mayor de edad o no. (Mayor de edad >= 18)"
   ]
  },
  {
   "cell_type": "code",
   "execution_count": 22,
   "metadata": {},
   "outputs": [
    {
     "name": "stdout",
     "output_type": "stream",
     "text": [
      "Es mayor de edad\n"
     ]
    }
   ],
   "source": [
    "edad=int(input(\"ingrese su edad\"))\n",
    "if edad>=18:\n",
    "    print(\"Es mayor de edad\")\n",
    "else:\n",
    "    print(\"No es mayor de edad\")"
   ]
  },
  {
   "cell_type": "markdown",
   "metadata": {},
   "source": [
    "6) Comprobar si el numero ingresado por el usuario es par o impar."
   ]
  },
  {
   "cell_type": "code",
   "execution_count": 6,
   "metadata": {},
   "outputs": [
    {
     "name": "stdout",
     "output_type": "stream",
     "text": [
      "El numero no es par\n"
     ]
    }
   ],
   "source": [
    "num=int(input(\"ingrese un numero\"))\n",
    "if num%2==0 :\n",
    "    print(\"El numero es par\")\n",
    "else:\n",
    "    print(\"El numero no es par\")"
   ]
  },
  {
   "cell_type": "markdown",
   "metadata": {},
   "source": [
    "7) Pedir al usuario que ingrese su dirección email y luego mostrar un mensaje indicando si la dirección es válida o no. Una dirección se considerará válida si contiene el símbolo \"@\"."
   ]
  },
  {
   "cell_type": "code",
   "execution_count": 9,
   "metadata": {},
   "outputs": [
    {
     "name": "stdout",
     "output_type": "stream",
     "text": [
      "La direccion es valida\n"
     ]
    }
   ],
   "source": [
    "gmai=input(\"ingrese su gmail\")\n",
    "if gmai.count(\"@\") :\n",
    "    print(\"La direccion es valida\")\n",
    "else:\n",
    "    print(\"La direccion NO es valida\")"
   ]
  },
  {
   "cell_type": "markdown",
   "metadata": {},
   "source": [
    "8) Dado un número de dos cifras, diseñe un algoritmo que permita obtener el número invertido. Ejemplo, si se introduce 23 que muestre 32. (Recordar que las cadenas pueden tratarse como listas de caracteres)."
   ]
  },
  {
   "cell_type": "markdown",
   "metadata": {},
   "source": []
  },
  {
   "cell_type": "code",
   "execution_count": 14,
   "metadata": {},
   "outputs": [
    {
     "name": "stdout",
     "output_type": "stream",
     "text": [
      "24\n"
     ]
    }
   ],
   "source": [
    "num=input(\"ingrese un numero de dos cifras\")\n",
    "num1=num[1]+num[0]\n",
    "\n",
    "print(num1)"
   ]
  },
  {
   "cell_type": "markdown",
   "metadata": {},
   "source": [
    "9) Crea un programa que pida al usuario dos números y muestre True si ambos son mayores que 10."
   ]
  },
  {
   "cell_type": "code",
   "execution_count": 17,
   "metadata": {},
   "outputs": [],
   "source": [
    "num=int(input(\"ingrese el primer numero\"))\n",
    "num1=int(input(\"ingrese el segundo numero\"))\n",
    "if num>10 and num1>10: print(True)"
   ]
  },
  {
   "cell_type": "markdown",
   "metadata": {},
   "source": [
    "10) Escribe un programa que verifique si un número ingresado por el usuario es divisible por 3 y por 5."
   ]
  },
  {
   "cell_type": "code",
   "execution_count": 19,
   "metadata": {},
   "outputs": [
    {
     "name": "stdout",
     "output_type": "stream",
     "text": [
      "El numero NO es divisible por 5 y 3\n"
     ]
    }
   ],
   "source": [
    "num=int(input(\"ingrese un numero\"))\n",
    "if num%3==0 and num%5==0:\n",
    "    print(\"El numero es divisible por 5 y 3\")\n",
    "else:\n",
    "    print(\"El numero NO es divisible por 5 y 3\")"
   ]
  },
  {
   "cell_type": "markdown",
   "metadata": {},
   "source": [
    "11) Utilizando la información del punto 5, preguntar al usuario si posee carnet de conducir, luego verificar si puede conducir un automóvil."
   ]
  },
  {
   "cell_type": "code",
   "execution_count": 23,
   "metadata": {},
   "outputs": [
    {
     "name": "stdout",
     "output_type": "stream",
     "text": [
      "puede conducir\n"
     ]
    }
   ],
   "source": [
    "conducir=input(\"posee carnet de conducir?, responder S o N\")\n",
    "if conducir.upper()==\"S\":\n",
    "    if edad>=18:\n",
    "        print(\"puede conducir\")\n",
    "    else: \n",
    "        print(\"No puede conducir\")\n"
   ]
  },
  {
   "cell_type": "markdown",
   "metadata": {},
   "source": [
    "12) Pide al usuario un número y verifica si es positivo y no es mayor que 100."
   ]
  },
  {
   "cell_type": "code",
   "execution_count": 25,
   "metadata": {},
   "outputs": [
    {
     "name": "stdout",
     "output_type": "stream",
     "text": [
      "El numero es positvio y no es mayor que 100\n"
     ]
    }
   ],
   "source": [
    "num=int(input(\"ingrese un numero\"))\n",
    "if num>=0 and num<=100: print(\"El numero es positvio y no es mayor que 100\")\n",
    "else:print(\"El numero NO es positvio Y/O  es mayor que 100\")\n"
   ]
  },
  {
   "cell_type": "markdown",
   "metadata": {},
   "source": [
    "13) Crear un programa que valide si un número ingresado por el usuario es par y mayor que 20."
   ]
  },
  {
   "cell_type": "code",
   "execution_count": 26,
   "metadata": {},
   "outputs": [
    {
     "name": "stdout",
     "output_type": "stream",
     "text": [
      "El numero es par y mayor a 20\n"
     ]
    }
   ],
   "source": [
    "num=int(input(\"ingrese un numero\"))\n",
    "if num%2==0 and num>20:print(\"El numero es par y mayor a 20\")\n",
    "else:print(\"El numero NO es par Y/O No es mayor a 20\")"
   ]
  },
  {
   "cell_type": "markdown",
   "metadata": {},
   "source": [
    "14) Dada la variable **numero = 5**, realizar la operación necesaria para que número sea igual a 8. Luego imprimir en pantalla el nuevo valor de número y realizar una nueva operación para que el valor de número sea igual a 4 y mostrar en pantalla el nuevo valor."
   ]
  },
  {
   "cell_type": "code",
   "execution_count": 29,
   "metadata": {},
   "outputs": [
    {
     "name": "stdout",
     "output_type": "stream",
     "text": [
      "Nuevo valor de numero es:  8\n",
      "Nuevo valor de numero es:  4\n"
     ]
    }
   ],
   "source": [
    "numero=5\n",
    "numero+=3\n",
    "print(\"Nuevo valor de numero es: \", numero)\n",
    "numero-=4\n",
    "print(\"Nuevo valor de numero es: \", numero)"
   ]
  },
  {
   "cell_type": "markdown",
   "metadata": {},
   "source": [
    "15) Dadas las variables altura = \"10\" y base = 5, calcular el área de un triángulo y mostrar el resultado en pantalla. ¿Por qué el resultado es un error? ¿Cómo lo corregirías?"
   ]
  },
  {
   "cell_type": "code",
   "execution_count": 30,
   "metadata": {},
   "outputs": [
    {
     "name": "stdout",
     "output_type": "stream",
     "text": [
      "El area del triangulo es:  25.0\n"
     ]
    }
   ],
   "source": [
    "#Da error porque estaba puesto como string . LO corregi transformandolo a entero\n",
    "altura=\"10\"\n",
    "base=5\n",
    "print(\"El area del triangulo es: \", (0.5*base *int(altura)))"
   ]
  },
  {
   "cell_type": "markdown",
   "metadata": {},
   "source": [
    "16) Crea un programa que calcule el promedio de tres calificaciones ingresadas por el usuario, y comprobar si el alumno aprobó o no (aprueba con nota mayor a 6)."
   ]
  },
  {
   "cell_type": "code",
   "execution_count": 2,
   "metadata": {},
   "outputs": [
    {
     "name": "stdout",
     "output_type": "stream",
     "text": [
      "El alumno no aprobo\n"
     ]
    }
   ],
   "source": [
    "clasificacion1=int(input(\"ingrese la primera clasificacion\"))\n",
    "clasificacion2=int(input(\"ingrese la segunda clasificacion\"))\n",
    "clasificacion3=int(input(\"ingrese la tercera clasificacion\"))\n",
    "total=(clasificacion1+clasificacion2+clasificacion3)/3\n",
    "if total>6:print(\"El alumno aprobo\")\n",
    "else:print(\"El alumno no aprobo\")"
   ]
  },
  {
   "cell_type": "markdown",
   "metadata": {},
   "source": [
    "17) Pide al usuario su edad y calcula cuántos días, horas y minutos ha vivido aproximadamente (asumiendo 365 días por año)."
   ]
  },
  {
   "cell_type": "code",
   "execution_count": 5,
   "metadata": {},
   "outputs": [
    {
     "name": "stdout",
     "output_type": "stream",
     "text": [
      "los dias vividos fueron: 6935\n",
      "las horas vividos fueron: 166440\n",
      "los minutos vividos fueron: 9986400\n"
     ]
    }
   ],
   "source": [
    "edad=int(input(\"Ingrese su edad\"))\n",
    "print(f\"los dias vividos fueron: {edad*365}\")\n",
    "print(f\"las horas vividos fueron: {edad*365*24}\")\n",
    "print(f\"los minutos vividos fueron: {edad*365*24*60}\")"
   ]
  },
  {
   "cell_type": "markdown",
   "metadata": {},
   "source": [
    "18) Crea un programa que verifique si un número ingresado por el usuario es múltiplo de 4 y de 6 al mismo tiempo."
   ]
  },
  {
   "cell_type": "code",
   "execution_count": 7,
   "metadata": {},
   "outputs": [
    {
     "name": "stdout",
     "output_type": "stream",
     "text": [
      "El numero NO es divisible por 4 y 6\n"
     ]
    }
   ],
   "source": [
    "num=int(input(\"ingrese un numero\"))\n",
    "if num%4==0 and num%6==0:\n",
    "    print(\"El numero es divisible por 4 y 6\")\n",
    "else:\n",
    "    print(\"El numero NO es divisible por 4 y 6\")"
   ]
  },
  {
   "cell_type": "markdown",
   "metadata": {},
   "source": [
    "19) "
   ]
  }
 ],
 "metadata": {
  "kernelspec": {
   "display_name": "Python 3",
   "language": "python",
   "name": "python3"
  },
  "language_info": {
   "codemirror_mode": {
    "name": "ipython",
    "version": 3
   },
   "file_extension": ".py",
   "mimetype": "text/x-python",
   "name": "python",
   "nbconvert_exporter": "python",
   "pygments_lexer": "ipython3",
   "version": "3.11.9"
  }
 },
 "nbformat": 4,
 "nbformat_minor": 2
}
